{
 "cells": [
  {
   "cell_type": "code",
   "execution_count": null,
   "metadata": {
    "collapsed": false
   },
   "outputs": [
    {
     "name": "stdout",
     "output_type": "stream",
     "text": [
      "Enter a wordhello\n",
      "Hi. Please guess a letter.a\n",
      "Wrong!\n",
      "So far you've used  ['a'] as letters.\n",
      "You've got 4 guesses left.\n",
      "Hi. Please guess a letter.s\n",
      "Wrong!\n",
      "So far you've used  ['a', 's'] as letters.\n",
      "You've got 3 guesses left.\n",
      "Hi. Please guess a letter.e\n",
      "Correct!\n",
      "So far you've used  ['a', 's', 'e'] as letters.\n",
      "You've got 3 guesses left.\n",
      "Hi. Please guess a letter.d\n",
      "Wrong!\n",
      "So far you've used  ['a', 's', 'e', 'd'] as letters.\n",
      "You've got 2 guesses left.\n",
      "Hi. Please guess a letter.l\n",
      "Correct!\n",
      "So far you've used  ['a', 's', 'e', 'd', 'l'] as letters.\n",
      "You've got 2 guesses left.\n",
      "Hi. Please guess a letter.o\n",
      "Correct!\n",
      "So far you've used  ['a', 's', 'e', 'd', 'l', 'o'] as letters.\n",
      "You've got 2 guesses left.\n",
      "Hi. Please guess a letter.h\n",
      "Correct!\n",
      "So far you've used  ['a', 's', 'e', 'd', 'l', 'o', 'h'] as letters.\n",
      "You've got 2 guesses left.\n"
     ]
    }
   ],
   "source": [
    "\n",
    "\"\"\"\n",
    "Hangman!\n",
    "\n",
    "This is a an effort at making a hangman game.\n",
    "\n",
    "\"\"\"\n",
    "\n",
    "guesses = 0\n",
    "guessed_letters = []\n",
    "word = input(\"Enter a word\")\n",
    "\n",
    "\n",
    "while guesses < 5: \n",
    "    guess = input(\"Hi. Please guess a letter.\")\n",
    "    \n",
    "    if set(word).intersection(set(guessed_letters)) == set(word):\n",
    "        break\n",
    "    \n",
    "    if guess in word and guess not in guessed_letters:\n",
    "        print(\"Correct!\")\n",
    "        guessed_letters.append(guess)\n",
    "        print(\"So far you've used \", guessed_letters, \"as letters.\")\n",
    "        print(\"You've got\",5-guesses,\"guesses left.\")\n",
    "        \n",
    "    elif guess not in word and guess not in guessed_letters:\n",
    "        guesses += 1\n",
    "        print(\"Wrong!\")\n",
    "        guessed_letters.append(guess)\n",
    "        print(\"So far you've used \", guessed_letters, \"as letters.\")\n",
    "        print(\"You've got\",5-guesses,\"guesses left.\")\n",
    "    \n",
    "    elif guess in guessed_letters:\n",
    "        print(\"You've already guessed that letter, please guess again.\")\n",
    "    \n",
    "    else:\n",
    "        print(\"ERROR\") \n",
    "\n",
    "if set(word).intersection(set(guessed_letters)) == set(word):\n",
    "    print(\"You won!\")\n",
    "else:\n",
    "    print(\"You lost!\")\n"
   ]
  }
 ],
 "metadata": {
  "kernelspec": {
   "display_name": "Python [conda root]",
   "language": "python",
   "name": "conda-root-py"
  },
  "language_info": {
   "codemirror_mode": {
    "name": "ipython",
    "version": 3
   },
   "file_extension": ".py",
   "mimetype": "text/x-python",
   "name": "python",
   "nbconvert_exporter": "python",
   "pygments_lexer": "ipython3",
   "version": "3.5.2"
  }
 },
 "nbformat": 4,
 "nbformat_minor": 1
}
